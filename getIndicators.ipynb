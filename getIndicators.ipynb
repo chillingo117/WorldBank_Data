{
 "cells": [
  {
   "cell_type": "markdown",
   "metadata": {
    "id": "kQi5yQuqT_Sj"
   },
   "source": [
    "This ipynb creates a tibble with all available indicators on the world bank database. Only three of these indicators are used, but in theory all of them can be. All the indicators can be used with processIndicator.csv to create a long-format tidy table with composite key (countryCode, year)."
   ]
  },
  {
   "cell_type": "code",
   "execution_count": 3,
   "metadata": {
    "id": "GgrMh4wwT_Sk"
   },
   "outputs": [],
   "source": [
    "library(tidyverse)\n",
    "library(magrittr)\n",
    "library(glue)\n",
    "library(rvest)\n",
    "library(httr)"
   ]
  },
  {
   "cell_type": "code",
   "execution_count": 4,
   "metadata": {
    "id": "OnoG1Lw8T_Sn",
    "outputId": "62e4e4e8-34c3-4b64-e92d-091730581a35"
   },
   "outputs": [
    {
     "data": {
      "text/plain": [
       "{xml_document}\n",
       "<indicators page=\"1\" pages=\"351\" per_page=\"50\" total=\"17517\" xmlns:wb=\"http://www.worldbank.org\">\n",
       " [1] <wb:indicator id=\"1.0.HCount.1.90usd\">\\n  <wb:name>Poverty Headcount ($1 ...\n",
       " [2] <wb:indicator id=\"1.0.HCount.2.5usd\">\\n  <wb:name>Poverty Headcount ($2. ...\n",
       " [3] <wb:indicator id=\"1.0.HCount.Mid10to50\">\\n  <wb:name>Middle Class ($10-5 ...\n",
       " [4] <wb:indicator id=\"1.0.HCount.Ofcl\">\\n  <wb:name>Official Moderate Povert ...\n",
       " [5] <wb:indicator id=\"1.0.HCount.Poor4uds\">\\n  <wb:name>Poverty Headcount ($ ...\n",
       " [6] <wb:indicator id=\"1.0.HCount.Vul4to10\">\\n  <wb:name>Vulnerable ($4-10 a  ...\n",
       " [7] <wb:indicator id=\"1.0.PGap.1.90usd\">\\n  <wb:name>Poverty Gap ($1.90 a da ...\n",
       " [8] <wb:indicator id=\"1.0.PGap.2.5usd\">\\n  <wb:name>Poverty Gap ($2.50 a day ...\n",
       " [9] <wb:indicator id=\"1.0.PGap.Poor4uds\">\\n  <wb:name>Poverty Gap ($4 a day) ...\n",
       "[10] <wb:indicator id=\"1.0.PSev.1.90usd\">\\n  <wb:name>Poverty Severity ($1.90 ...\n",
       "[11] <wb:indicator id=\"1.0.PSev.2.5usd\">\\n  <wb:name>Poverty Severity ($2.50  ...\n",
       "[12] <wb:indicator id=\"1.0.PSev.Poor4uds\">\\n  <wb:name>Poverty Severity ($4 a ...\n",
       "[13] <wb:indicator id=\"1.1.HCount.1.90usd\">\\n  <wb:name>Poverty Headcount ($1 ...\n",
       "[14] <wb:indicator id=\"1.1.HCount.2.5usd\">\\n  <wb:name>Poverty Headcount ($2. ...\n",
       "[15] <wb:indicator id=\"1.1.HCount.Mid10to50\">\\n  <wb:name>Middle Class ($10-5 ...\n",
       "[16] <wb:indicator id=\"1.1.HCount.Ofcl\">\\n  <wb:name>Official Moderate Povert ...\n",
       "[17] <wb:indicator id=\"1.1.HCount.Poor4uds\">\\n  <wb:name>Poverty Headcount ($ ...\n",
       "[18] <wb:indicator id=\"1.1.HCount.Vul4to10\">\\n  <wb:name>Vulnerable ($4-10 a  ...\n",
       "[19] <wb:indicator id=\"1.1.PGap.1.90usd\">\\n  <wb:name>Poverty Gap ($1.90 a da ...\n",
       "[20] <wb:indicator id=\"1.1.PGap.2.5usd\">\\n  <wb:name>Poverty Gap ($2.50 a day ...\n",
       "..."
      ]
     },
     "metadata": {},
     "output_type": "display_data"
    }
   ],
   "source": [
    "# using worlbanks api, request some indicators (recieves xml and stores as tree)\n",
    "url = \"http://api.worldbank.org/v2/indicator\"\n",
    "minitree <- read_xml(url)\n",
    "minitree"
   ]
  },
  {
   "cell_type": "code",
   "execution_count": 5,
   "metadata": {
    "id": "sPSvUCGqT_Sq",
    "outputId": "9bb84b17-b41f-4b9b-aec0-d26ff0e5b5a2"
   },
   "outputs": [
    {
     "data": {
      "text/html": [
       "<style>\n",
       ".dl-inline {width: auto; margin:0; padding: 0}\n",
       ".dl-inline>dt, .dl-inline>dd {float: none; width: auto; display: inline-block}\n",
       ".dl-inline>dt::after {content: \":\\0020\"; padding-right: .5ex}\n",
       ".dl-inline>dt:not(:first-of-type) {padding-left: .5ex}\n",
       "</style><dl class=dl-inline><dt>page</dt><dd>'1'</dd><dt>pages</dt><dd>'351'</dd><dt>per_page</dt><dd>'50'</dd><dt>total</dt><dd>'17517'</dd><dt>xmlns:wb</dt><dd>'http://www.worldbank.org'</dd></dl>\n"
      ],
      "text/latex": [
       "\\begin{description*}\n",
       "\\item[page] '1'\n",
       "\\item[pages] '351'\n",
       "\\item[per\\textbackslash{}\\_page] '50'\n",
       "\\item[total] '17517'\n",
       "\\item[xmlns:wb] 'http://www.worldbank.org'\n",
       "\\end{description*}\n"
      ],
      "text/markdown": [
       "page\n",
       ":   '1'pages\n",
       ":   '351'per_page\n",
       ":   '50'total\n",
       ":   '17517'xmlns:wb\n",
       ":   'http://www.worldbank.org'\n",
       "\n"
      ],
      "text/plain": [
       "                      page                      pages \n",
       "                       \"1\"                      \"351\" \n",
       "                  per_page                      total \n",
       "                      \"50\"                    \"17517\" \n",
       "                  xmlns:wb \n",
       "\"http://www.worldbank.org\" "
      ]
     },
     "metadata": {},
     "output_type": "display_data"
    },
    {
     "data": {
      "text/html": [
       "'17517'"
      ],
      "text/latex": [
       "'17517'"
      ],
      "text/markdown": [
       "'17517'"
      ],
      "text/plain": [
       "[1] \"17517\""
      ]
     },
     "metadata": {},
     "output_type": "display_data"
    }
   ],
   "source": [
    "# get the total amount of ids available\n",
    "minitree %>% xml_attrs()\n",
    "total <- minitree %>% xml_attr(\"total\")\n",
    "total"
   ]
  },
  {
   "cell_type": "code",
   "execution_count": 6,
   "metadata": {
    "id": "ZZtAJ_zeT_St"
   },
   "outputs": [],
   "source": [
    "# requests the indicators again, except with a per_page value equal to the total amount of indicators\n",
    "# available (effectively presenting all indicators in a single xml)\n",
    "url = glue(\"http://api.worldbank.org/v2/indicator?per_page={total}\")\n",
    "tree <- read_xml(url)"
   ]
  },
  {
   "cell_type": "code",
   "execution_count": 7,
   "metadata": {
    "id": "u2_1gDUST_Sv",
    "outputId": "1040a5a2-4870-45b1-bc40-106a77738ada"
   },
   "outputs": [
    {
     "data": {
      "text/html": [
       "<style>\n",
       ".list-inline {list-style: none; margin:0; padding: 0}\n",
       ".list-inline>li {display: inline-block}\n",
       ".list-inline>li:not(:last-child)::after {content: \"\\00b7\"; padding: 0 .5ex}\n",
       "</style>\n",
       "<ol class=list-inline><li>'1.0.HCount.1.90usd'</li><li>'1.0.HCount.2.5usd'</li><li>'1.0.HCount.Mid10to50'</li><li>'1.0.HCount.Ofcl'</li><li>'1.0.HCount.Poor4uds'</li><li>'1.0.HCount.Vul4to10'</li></ol>\n"
      ],
      "text/latex": [
       "\\begin{enumerate*}\n",
       "\\item '1.0.HCount.1.90usd'\n",
       "\\item '1.0.HCount.2.5usd'\n",
       "\\item '1.0.HCount.Mid10to50'\n",
       "\\item '1.0.HCount.Ofcl'\n",
       "\\item '1.0.HCount.Poor4uds'\n",
       "\\item '1.0.HCount.Vul4to10'\n",
       "\\end{enumerate*}\n"
      ],
      "text/markdown": [
       "1. '1.0.HCount.1.90usd'\n",
       "2. '1.0.HCount.2.5usd'\n",
       "3. '1.0.HCount.Mid10to50'\n",
       "4. '1.0.HCount.Ofcl'\n",
       "5. '1.0.HCount.Poor4uds'\n",
       "6. '1.0.HCount.Vul4to10'\n",
       "\n",
       "\n"
      ],
      "text/plain": [
       "[1] \"1.0.HCount.1.90usd\"   \"1.0.HCount.2.5usd\"    \"1.0.HCount.Mid10to50\"\n",
       "[4] \"1.0.HCount.Ofcl\"      \"1.0.HCount.Poor4uds\"  \"1.0.HCount.Vul4to10\" "
      ]
     },
     "metadata": {},
     "output_type": "display_data"
    }
   ],
   "source": [
    "# from all the children in the tree (each indicator), retrieve the id value and store as all_ids\n",
    "children <- tree %>% xml_children()\n",
    "all_ids <- xml_attr(children, \"id\")\n",
    "all_ids %>% head()"
   ]
  },
  {
   "cell_type": "code",
   "execution_count": 8,
   "metadata": {
    "id": "GtLwUAatT_Sx",
    "outputId": "3a9244b8-4300-429b-91ce-0caa0698ca1c"
   },
   "outputs": [
    {
     "data": {
      "text/html": [
       "<style>\n",
       ".list-inline {list-style: none; margin:0; padding: 0}\n",
       ".list-inline>li {display: inline-block}\n",
       ".list-inline>li:not(:last-child)::after {content: \"\\00b7\"; padding: 0 .5ex}\n",
       "</style>\n",
       "<ol class=list-inline><li>'Poverty Headcount ($1.90 a day)LAC Equity LabThe poverty headcount index measures the proportion of the population with daily per capita income (in 2011 PPP) below the poverty line.LAC Equity Lab tabulations of SEDLAC (CEDLAS and the World Bank).Poverty '</li><li>'Poverty Headcount ($2.50 a day)LAC Equity LabThe poverty headcount index measures the proportion of the population with daily per capita income (in 2005 PPP) below the poverty line.LAC Equity Lab tabulations of SEDLAC (CEDLAS and the World Bank).Poverty '</li><li>'Middle Class ($10-50 a day) HeadcountLAC Equity LabThe poverty headcount index measures the proportion of the population with daily per capita income (in 2005 PPP) below the poverty line.LAC Equity Lab tabulations of SEDLAC (CEDLAS and the World Bank).Poverty '</li><li>'Official Moderate Poverty Rate-NationalLAC Equity LabThe poverty headcount index measures the proportion of the population with daily per capita income below the official poverty line developed by each country.LAC Equity Lab tabulations of data from National Statistical Offices.Poverty '</li><li>'Poverty Headcount ($4 a day)LAC Equity LabThe poverty headcount index measures the proportion of the population with daily per capita income (in 2005 PPP) below the poverty line.LAC Equity Lab tabulations of SEDLAC (CEDLAS and the World Bank).Poverty '</li><li>'Vulnerable ($4-10 a day) HeadcountLAC Equity LabThe poverty headcount index measures the proportion of the population with daily per capita income (in 2005 PPP) below the poverty line.LAC Equity Lab tabulations of SEDLAC (CEDLAS and the World Bank).Poverty '</li></ol>\n"
      ],
      "text/latex": [
       "\\begin{enumerate*}\n",
       "\\item 'Poverty Headcount (\\$1.90 a day)LAC Equity LabThe poverty headcount index measures the proportion of the population with daily per capita income (in 2011 PPP) below the poverty line.LAC Equity Lab tabulations of SEDLAC (CEDLAS and the World Bank).Poverty '\n",
       "\\item 'Poverty Headcount (\\$2.50 a day)LAC Equity LabThe poverty headcount index measures the proportion of the population with daily per capita income (in 2005 PPP) below the poverty line.LAC Equity Lab tabulations of SEDLAC (CEDLAS and the World Bank).Poverty '\n",
       "\\item 'Middle Class (\\$10-50 a day) HeadcountLAC Equity LabThe poverty headcount index measures the proportion of the population with daily per capita income (in 2005 PPP) below the poverty line.LAC Equity Lab tabulations of SEDLAC (CEDLAS and the World Bank).Poverty '\n",
       "\\item 'Official Moderate Poverty Rate-NationalLAC Equity LabThe poverty headcount index measures the proportion of the population with daily per capita income below the official poverty line developed by each country.LAC Equity Lab tabulations of data from National Statistical Offices.Poverty '\n",
       "\\item 'Poverty Headcount (\\$4 a day)LAC Equity LabThe poverty headcount index measures the proportion of the population with daily per capita income (in 2005 PPP) below the poverty line.LAC Equity Lab tabulations of SEDLAC (CEDLAS and the World Bank).Poverty '\n",
       "\\item 'Vulnerable (\\$4-10 a day) HeadcountLAC Equity LabThe poverty headcount index measures the proportion of the population with daily per capita income (in 2005 PPP) below the poverty line.LAC Equity Lab tabulations of SEDLAC (CEDLAS and the World Bank).Poverty '\n",
       "\\end{enumerate*}\n"
      ],
      "text/markdown": [
       "1. 'Poverty Headcount ($1.90 a day)LAC Equity LabThe poverty headcount index measures the proportion of the population with daily per capita income (in 2011 PPP) below the poverty line.LAC Equity Lab tabulations of SEDLAC (CEDLAS and the World Bank).Poverty '\n",
       "2. 'Poverty Headcount ($2.50 a day)LAC Equity LabThe poverty headcount index measures the proportion of the population with daily per capita income (in 2005 PPP) below the poverty line.LAC Equity Lab tabulations of SEDLAC (CEDLAS and the World Bank).Poverty '\n",
       "3. 'Middle Class ($10-50 a day) HeadcountLAC Equity LabThe poverty headcount index measures the proportion of the population with daily per capita income (in 2005 PPP) below the poverty line.LAC Equity Lab tabulations of SEDLAC (CEDLAS and the World Bank).Poverty '\n",
       "4. 'Official Moderate Poverty Rate-NationalLAC Equity LabThe poverty headcount index measures the proportion of the population with daily per capita income below the official poverty line developed by each country.LAC Equity Lab tabulations of data from National Statistical Offices.Poverty '\n",
       "5. 'Poverty Headcount ($4 a day)LAC Equity LabThe poverty headcount index measures the proportion of the population with daily per capita income (in 2005 PPP) below the poverty line.LAC Equity Lab tabulations of SEDLAC (CEDLAS and the World Bank).Poverty '\n",
       "6. 'Vulnerable ($4-10 a day) HeadcountLAC Equity LabThe poverty headcount index measures the proportion of the population with daily per capita income (in 2005 PPP) below the poverty line.LAC Equity Lab tabulations of SEDLAC (CEDLAS and the World Bank).Poverty '\n",
       "\n",
       "\n"
      ],
      "text/plain": [
       "[1] \"Poverty Headcount ($1.90 a day)LAC Equity LabThe poverty headcount index measures the proportion of the population with daily per capita income (in 2011 PPP) below the poverty line.LAC Equity Lab tabulations of SEDLAC (CEDLAS and the World Bank).Poverty \"                                 \n",
       "[2] \"Poverty Headcount ($2.50 a day)LAC Equity LabThe poverty headcount index measures the proportion of the population with daily per capita income (in 2005 PPP) below the poverty line.LAC Equity Lab tabulations of SEDLAC (CEDLAS and the World Bank).Poverty \"                                 \n",
       "[3] \"Middle Class ($10-50 a day) HeadcountLAC Equity LabThe poverty headcount index measures the proportion of the population with daily per capita income (in 2005 PPP) below the poverty line.LAC Equity Lab tabulations of SEDLAC (CEDLAS and the World Bank).Poverty \"                           \n",
       "[4] \"Official Moderate Poverty Rate-NationalLAC Equity LabThe poverty headcount index measures the proportion of the population with daily per capita income below the official poverty line developed by each country.LAC Equity Lab tabulations of data from National Statistical Offices.Poverty \"\n",
       "[5] \"Poverty Headcount ($4 a day)LAC Equity LabThe poverty headcount index measures the proportion of the population with daily per capita income (in 2005 PPP) below the poverty line.LAC Equity Lab tabulations of SEDLAC (CEDLAS and the World Bank).Poverty \"                                    \n",
       "[6] \"Vulnerable ($4-10 a day) HeadcountLAC Equity LabThe poverty headcount index measures the proportion of the population with daily per capita income (in 2005 PPP) below the poverty line.LAC Equity Lab tabulations of SEDLAC (CEDLAS and the World Bank).Poverty \"                              "
      ]
     },
     "metadata": {},
     "output_type": "display_data"
    }
   ],
   "source": [
    "# repeat above, except extract the names of each indicator\n",
    "children <- tree %>% xml_children()\n",
    "all_names <- xml_text(children)\n",
    "all_names %>% head()"
   ]
  },
  {
   "cell_type": "code",
   "execution_count": 9,
   "metadata": {
    "id": "84ckeRmtT_S0"
   },
   "outputs": [],
   "source": [
    "# bind the two vectors of ids and names together. Since they were from the same page, and the order\n",
    "# the children will be the same, these two vectors will be bind the ids and names for each indicator\n",
    "# correctly\n",
    "available_indicators <- cbind(all_ids, all_names)"
   ]
  },
  {
   "cell_type": "code",
   "execution_count": 10,
   "metadata": {
    "id": "d3bf_ps9T_S3"
   },
   "outputs": [],
   "source": [
    "# convert matrix to tibble and save as indicators.csv\n",
    "available_indicators %<>% as_tibble()\n",
    "available_indicators %>% write_csv(\"indicators.csv\")"
   ]
  },
  {
   "cell_type": "code",
   "execution_count": null,
   "metadata": {
    "id": "yDiS-cdvT_S5"
   },
   "outputs": [],
   "source": []
  }
 ],
 "metadata": {
  "colab": {
   "collapsed_sections": [],
   "name": "getIndicators.ipynb",
   "provenance": []
  },
  "kernelspec": {
   "display_name": "R",
   "language": "R",
   "name": "ir"
  },
  "language_info": {
   "codemirror_mode": "r",
   "file_extension": ".r",
   "mimetype": "text/x-r-source",
   "name": "R",
   "pygments_lexer": "r",
   "version": "4.0.3"
  }
 },
 "nbformat": 4,
 "nbformat_minor": 4
}
