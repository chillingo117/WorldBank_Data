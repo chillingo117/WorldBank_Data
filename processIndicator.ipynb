{
 "cells": [
  {
   "cell_type": "markdown",
   "metadata": {
    "id": "VCNEPfdBPbpI"
   },
   "source": [
    "This ipynb takes a valid indicator ID (interesting ones can be found in the indicators.csv), uses the world bank data api to download the relevant excel file. It saves the excel as a tempfile, and then reads it into r. It then cleans the data into a long format with a composite key of (country, year). Finally, it saves it into a csv.\n",
    "\n",
    "Interesting indicators can be more easily found on https://data.worldbank.org/indicator"
   ]
  },
  {
   "cell_type": "code",
   "execution_count": 4,
   "metadata": {
    "executionInfo": {
     "elapsed": 1145,
     "status": "ok",
     "timestamp": 1603268459757,
     "user": {
      "displayName": "Coppy Nawaphanarat",
      "photoUrl": "",
      "userId": "12460482065498076530"
     },
     "user_tz": -780
    },
    "id": "D5xAh7sePbpJ"
   },
   "outputs": [
    {
     "name": "stderr",
     "output_type": "stream",
     "text": [
      "\n",
      "Attaching package: 'glue'\n",
      "\n",
      "\n",
      "The following object is masked from 'package:dplyr':\n",
      "\n",
      "    collapse\n",
      "\n",
      "\n"
     ]
    }
   ],
   "source": [
    "library(readxl)\n",
    "library(httr)\n",
    "library(tidyverse)\n",
    "library(magrittr)\n",
    "library(glue)"
   ]
  },
  {
   "cell_type": "code",
   "execution_count": 10,
   "metadata": {
    "executionInfo": {
     "elapsed": 1148,
     "status": "ok",
     "timestamp": 1603268465323,
     "user": {
      "displayName": "Coppy Nawaphanarat",
      "photoUrl": "",
      "userId": "12460482065498076530"
     },
     "user_tz": -780
    },
    "id": "7VhLZa0sPbpO"
   },
   "outputs": [],
   "source": [
    "# inputs are the indicator id and the variable of interest, both as character strings.\n",
    "processIndicator <- function(indicator, variable){\n",
    "    #get the excel file from the url and save it in the tempfile \"excel\"\n",
    "    url <- glue(\"http://api.worldbank.org/v2/en/indicator/{indicator}?downloadformat=excel\")\n",
    "    GET(url, write_disk(excel <- tempfile(fileext = \".xls\")))\n",
    "    \n",
    "    # to ensure consistency, we manually state the column types to be used\n",
    "    text = rep(\"text\", 4) # 4 character columns\n",
    "    nums = rep(\"numeric\", 2021-1960) # numeric columns for the years\n",
    "    types = c(text, nums) # join them together to form our types vector\n",
    "\n",
    "    # the excels from worldbank api have three junk rows of data above the desired data. \n",
    "    # so we skip 3 rows when reading this csv\n",
    "    data <- read_excel(excel, skip=3, col_types = types)\n",
    "    \n",
    "    # set column names.\n",
    "    years <- seq(1960,2021)\n",
    "    colnames(data) = c(\"countryName\", \"countryCode\",\"indicatorName\",\"indicatorCode\", years) \n",
    "\n",
    "    # removing the indicator columns, then grouping by year\n",
    "    data %<>% select(-indicatorName, -indicatorCode)\n",
    "    data %<>% gather(key = year, value = variable, -c(countryName, countryCode))\n",
    "\n",
    "    # years below 2016 are irrelevant, due to the gkg dataset only going back to 2016\n",
    "    data %<>% filter(year >= 2016)\n",
    "\n",
    "    # there are no 2020 observations, so we can remove that year\n",
    "    data %<>% filter(year != 2020)\n",
    "    \n",
    "    # remove all rows with NA for data\n",
    "    data %<>% select(countryCode, year, variable) %>% na.omit()\n",
    "    \n",
    "    #rename the variable column to the actual variable name\n",
    "    data %<>% setNames(c(\"countryCode\", \"year\", glue(\"{variable}\")))\n",
    "    \n",
    "    # save our tidy table\n",
    "    data %>% write_csv(glue(\"{variable}.csv\"))\n",
    "}"
   ]
  },
  {
   "cell_type": "code",
   "execution_count": 11,
   "metadata": {
    "colab": {
     "base_uri": "https://localhost:8080/",
     "height": 215
    },
    "executionInfo": {
     "elapsed": 11173,
     "status": "error",
     "timestamp": 1603268527379,
     "user": {
      "displayName": "Coppy Nawaphanarat",
      "photoUrl": "",
      "userId": "12460482065498076530"
     },
     "user_tz": -780
    },
    "id": "1Tw2VszXPbpR",
    "outputId": "1134d487-6802-4ceb-a723-eefa523204ec"
   },
   "outputs": [],
   "source": [
    "# process the three used in our deliverable. Literacy rates, gdp per capita, and populations\n",
    "# per country. More indicators can be found using \n",
    "processIndicator(\"SE.ADT.LITR.ZS\", \"literacy\")\n",
    "processIndicator(\"NY.GDP.PCAP.CD\", \"gdp\")\n",
    "processIndicator(\"SP.POP.TOTL\", \"population\")"
   ]
  }
 ],
 "metadata": {
  "colab": {
   "name": "processIndicator.ipynb",
   "provenance": []
  },
  "kernelspec": {
   "display_name": "R",
   "language": "R",
   "name": "ir"
  },
  "language_info": {
   "codemirror_mode": "r",
   "file_extension": ".r",
   "mimetype": "text/x-r-source",
   "name": "R",
   "pygments_lexer": "r",
   "version": "4.0.3"
  }
 },
 "nbformat": 4,
 "nbformat_minor": 4
}
